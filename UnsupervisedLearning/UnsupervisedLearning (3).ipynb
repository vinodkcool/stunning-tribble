{
 "cells": [
  {
   "cell_type": "markdown",
   "metadata": {},
   "source": [
    "###### Clustering\n",
    "\n",
    "Clustering is an interesting field of Unsupervised Machine learning where we classify \n",
    "datasets into set of similar groups. It is part of ‘Unsupervised learning’ meaning, where\n",
    "there is no prior training happening and the dataset will be unlabeled. Clustering can be\n",
    "done using different techniques like K-means clustering, Mean Shift clustering, DB Scan \n",
    "clustering, Hierarchical clustering etc. \n",
    "\n",
    "###### Image clustering\n",
    "\n",
    "\n",
    "Image clustering is an essential data analysis tool in machine\n",
    "learning and computer vision. Many applications\n",
    "such as content-based image annotation and\n",
    "image retrieval can be viewed as different instances\n",
    "of image clustering. Technically, image clustering\n",
    "is the process of grouping images into clusters such that the\n",
    "images within the same clusters are similar to each other,\n",
    "while those in different clusters are dissimilar."
   ]
  },
  {
   "cell_type": "code",
   "execution_count": 30,
   "metadata": {},
   "outputs": [],
   "source": [
    "import os\n",
    "# Code: import Kmeans library from sklearn ( 1 point)\n",
    "import keras\n",
    "from sklearn.cluster import KMeans"
   ]
  },
  {
   "cell_type": "markdown",
   "metadata": {},
   "source": [
    "###### VGG \n",
    "\n",
    "VGG is a convolutional neural network model for image recognition proposed by the Visual Geometry Group in the University of Oxford, where VGG16 refers to a VGG model with 16 weight layers, and VGG19 refers to a VGG model with 19 weight layers. The architecture of VGG16: the input layer takes an image in the size of (224 x 224 x 3), and the output layer is a softmax prediction on 1000 classes. From the input layer to the last max pooling layer (labeled by 7 x 7 x 512) is regarded as the feature extraction part of the model."
   ]
  },
  {
   "cell_type": "code",
   "execution_count": 31,
   "metadata": {},
   "outputs": [
    {
     "data": {
      "text/plain": [
       "(1, 7, 7, 512)"
      ]
     },
     "execution_count": 31,
     "metadata": {},
     "output_type": "execute_result"
    }
   ],
   "source": [
    "from keras.preprocessing import image\n",
    "# Code: import VGG feature extraction from keras application as VGG16 (1 point)\n",
    "from keras.applications.vgg16 import VGG16\n",
    "from keras.applications.vgg16 import preprocess_input\n",
    "import numpy as np\n",
    "\n",
    "model = VGG16(weights='imagenet', include_top=False)    \n",
    "\n",
    "img_path = \"dataset/train_dataset/_83930440_lion-think-976.jpg\"\n",
    "# Code: Specify path of the random image from the training dataset. (1 point)\n",
    "img = image.load_img(img_path, target_size=(224, 224)) \n",
    "img_data = image.img_to_array(img)\n",
    "img_data = np.expand_dims(img_data, axis=0)\n",
    "\n",
    "vgg16_feature = model.predict(img_data)  \n",
    "\n",
    "# Code: print the shape of the vgg16_feature  (1 point)\n",
    "# the shape of feature extracted by VGG16\n",
    "vgg16_feature.shape"
   ]
  },
  {
   "cell_type": "code",
   "execution_count": 32,
   "metadata": {},
   "outputs": [],
   "source": [
    "# The given function will extract the features from the images.\n",
    "def extract_feature(directory):\n",
    "    vgg16_feature_list = []\n",
    "\n",
    "    for filename in os.listdir(directory):\n",
    "\n",
    "        img = image.load_img(os.path.join(directory,filename), target_size=(224, 224))\n",
    "        img_data = image.img_to_array(img)\n",
    "        img_data = np.expand_dims(img_data, axis=0)\n",
    "        img_data = preprocess_input(img_data)\n",
    "\n",
    "        vgg16_feature = model.predict(img_data)\n",
    "        vgg16_feature_np = np.array(vgg16_feature)\n",
    "        vgg16_feature_list.append(vgg16_feature_np.flatten())\n",
    "\n",
    "    vgg16_feature_list_np = np.array(vgg16_feature_list)\n",
    "    \n",
    "    return vgg16_feature_list_np"
   ]
  },
  {
   "cell_type": "markdown",
   "metadata": {},
   "source": [
    "The given dataset has three classes that are: Lion , Fish and Zebra, but we are not providing any \n",
    "    supervision to the model i.e. we are not specifying which image is associated with which\n",
    "    class / cluster. For this we using unsupervised image clustering to create the clusters."
   ]
  },
  {
   "cell_type": "code",
   "execution_count": 33,
   "metadata": {
    "scrolled": true
   },
   "outputs": [
    {
     "data": {
      "text/plain": [
       "KMeans(algorithm='auto', copy_x=True, init='k-means++', max_iter=300,\n",
       "       n_clusters=3, n_init=10, n_jobs=None, precompute_distances='auto',\n",
       "       random_state=0, tol=0.0001, verbose=0)"
      ]
     },
     "execution_count": 33,
     "metadata": {},
     "output_type": "execute_result"
    }
   ],
   "source": [
    " # pass the path of the folder where you have the training dataset\n",
    "train_feature_vector = extract_feature(\"dataset/train_dataset\") \n",
    "\n",
    "# Code: create the kmeans object and initialize it with the number_of_clusters = 3   (2 point)\n",
    "\n",
    "kmeans_model =KMeans(n_clusters=3, random_state=0) \n",
    "kmeans_model.fit(train_feature_vector) \n",
    "   \n"
   ]
  },
  {
   "cell_type": "code",
   "execution_count": 34,
   "metadata": {},
   "outputs": [],
   "source": [
    "# create a test vector using extract_feature function. It will return a feature vector of size \n",
    "# number of images * size of the feature vector\n",
    "\n",
    "test_vector  = extract_feature(\"dataset/test_dataset\")  # (1 point)"
   ]
  },
  {
   "cell_type": "code",
   "execution_count": 35,
   "metadata": {},
   "outputs": [
    {
     "data": {
      "text/plain": [
       "(33, 25088)"
      ]
     },
     "execution_count": 35,
     "metadata": {},
     "output_type": "execute_result"
    }
   ],
   "source": [
    "# Code: print the shape of the test vector   # (1 point)\n",
    "test_vector.shape"
   ]
  },
  {
   "cell_type": "code",
   "execution_count": 38,
   "metadata": {},
   "outputs": [],
   "source": [
    "\n",
    "# Code: use the kmeans model to predict the labels for the test vector (1 point)\n",
    "labels = kmeans_model.predict(test_vector)"
   ]
  },
  {
   "cell_type": "code",
   "execution_count": 39,
   "metadata": {},
   "outputs": [
    {
     "data": {
      "text/plain": [
       "array([2, 2, 2, 2, 2, 2, 1, 0, 1, 1, 1, 0, 0, 0, 1, 1, 1, 2, 1, 2, 1, 1,\n",
       "       1, 1, 1, 1, 1, 1, 1, 1, 1, 1, 1])"
      ]
     },
     "execution_count": 39,
     "metadata": {},
     "output_type": "execute_result"
    }
   ],
   "source": [
    "labels"
   ]
  },
  {
   "cell_type": "code",
   "execution_count": 40,
   "metadata": {},
   "outputs": [],
   "source": [
    "def createDirectory(directoryName):\n",
    "      # Create target Directory if don't exist\n",
    "    if not os.path.exists(directoryName):\n",
    "        os.mkdir(directoryName)\n",
    "        print(\"Directory \" , directoryName ,  \" Created \")\n",
    "    else:    \n",
    "        print(\"Directory \" , directoryName ,  \" already exists\")"
   ]
  },
  {
   "cell_type": "code",
   "execution_count": 41,
   "metadata": {},
   "outputs": [
    {
     "name": "stdout",
     "output_type": "stream",
     "text": [
      "Directory  dataset/output/Zebra  already exists\n",
      "Directory  dataset/output/Lion  already exists\n",
      "Directory  dataset/output/Fish  already exists\n"
     ]
    }
   ],
   "source": [
    "createDirectory(\"dataset/output/Zebra\")\n",
    "createDirectory(\"dataset/output/Lion\")\n",
    "createDirectory(\"dataset/output/Fish\")"
   ]
  },
  {
   "cell_type": "code",
   "execution_count": 29,
   "metadata": {},
   "outputs": [
    {
     "name": "stdout",
     "output_type": "stream",
     "text": [
      "The length of the Array is  33\n",
      "The length of the files in the directory is 33\n",
      "Processing  african-lionadapt19001JPG.jpg label --> 2  Iterator i  0\n",
      "Processing  africanlion-001.jpg label --> 2  Iterator i  1\n",
      "Processing  africanlion-005.jpg label --> 2  Iterator i  2\n",
      "Processing  animals_hero_lions_0.jpg label --> 2  Iterator i  3\n",
      "Processing  asiatic-lion_thumbJPG.jpg label --> 2  Iterator i  4\n",
      "Processing  black-maned-lion-shem-compion-590x390.jpg label --> 2  Iterator i  5\n",
      "Processing  dangers-of-uneaten-fish-food.jpg label --> 1  Iterator i  6\n",
      "Processing  DCTM_Penguin_UK_DK_AL458223_sjvgvt.jpg label --> 0  Iterator i  7\n",
      "Processing  DCTM_Penguin_UK_DK_AL644648_p7nd0z.jpg label --> 1  Iterator i  8\n",
      "Processing  discus-fish-1943755__340.jpg label --> 1  Iterator i  9\n",
      "Processing  DlCOrbzYTw4.jpg label --> 1  Iterator i  10\n",
      "Processing  e06dc834cacfac12b5f0c00f3af93845.jpg label --> 0  Iterator i  11\n",
      "Processing  Equus_quagga.jpg label --> 0  Iterator i  12\n",
      "Processing  Equus_quagga_burchellii_-_Etosha2C_2014.jpg label --> 0  Iterator i  13\n",
      "Processing  F1.large.jpg label --> 1  Iterator i  14\n",
      "Processing  Fastest-Fish-img.jpg label --> 1  Iterator i  15\n",
      "Processing  fastest-fish.jpg label --> 1  Iterator i  16\n",
      "Processing  file-20181101-83635-1xcrr39.jpg label --> 2  Iterator i  17\n",
      "Processing  file-20190703-126345-xa7kok.jpg label --> 1  Iterator i  18\n",
      "Processing  file-20190918-187980-1ekemtt.jpg label --> 2  Iterator i  19\n",
      "Processing  file-20191030-154716-1wc4d64.jpg label --> 1  Iterator i  20\n",
      "Processing  fish-1534844_1920-1280x853.jpg label --> 1  Iterator i  21\n",
      "Processing  fish-2.jpg label --> 1  Iterator i  22\n",
      "Processing  fish-farms-to-produce-nearly-two-thirds-of-indias-fish-supply-by-2030.jpg label --> 1  Iterator i  23\n",
      "Processing  fish-hero.adapt.1900.1.jpg label --> 1  Iterator i  24\n",
      "Processing  Fish-Lure.jpg label --> 1  Iterator i  25\n",
      "Processing  Fish-Names-770x405.png label --> 1  Iterator i  26\n",
      "Processing  fish-shark-ambient-kids-still.adapt.1900.1.jpg label --> 1  Iterator i  27\n",
      "Processing  fish2Farticles2FSouth-America2Fsuriname-pacu.jpeg label --> 1  Iterator i  28\n",
      "Processing  fish2Ffallbacks2Fspecies2Fshoal.jpeg label --> 1  Iterator i  29\n",
      "Processing  fish8.jpg label --> 1  Iterator i  30\n",
      "Processing  FishHighRez.jpg label --> 1  Iterator i  31\n",
      "Processing  fish_2.jpg label --> 1  Iterator i  32\n"
     ]
    }
   ],
   "source": [
    "# Code: Using the labels and the images, save the test images in the different folders in respective \n",
    "#clusters.   (2 point)\n",
    "from shutil import copyfile\n",
    "length_array = len(labels)\n",
    "test_dataset_dir=\"dataset/test_dataset/\"\n",
    "output_zebra_dir=\"dataset/output/Zebra/\"\n",
    "output_fish_dir=\"dataset/output/Fish/\"\n",
    "output_lion_dir=\"dataset/output/Lion/\"\n",
    "file_arr = []\n",
    "for filenames in os.listdir(test_dataset_dir):\n",
    "    if not filenames.startswith('.DS_Store'):\n",
    "        file_arr.append(filenames)\n",
    "\n",
    "print(\"The length of the Array is \", length_array)\n",
    "print(\"The length of the files in the directory is\",len(file_arr))\n",
    "\n",
    "for i in range((len(labels))):\n",
    "    print(\"Processing \", file_arr[i] , \"label -->\", labels[i], \" Iterator i \", i)\n",
    "\n",
    "    if labels[i] == 2:\n",
    "        copyfile(test_dataset_dir + file_arr[i], output_lion_dir + file_arr[i])\n",
    "    elif labels[i] == 1:\n",
    "        copyfile(test_dataset_dir + file_arr[i], output_fish_dir + file_arr[i])\n",
    "    else:\n",
    "        copyfile(test_dataset_dir + file_arr[i], output_zebra_dir + file_arr[i])\n"
   ]
  },
  {
   "cell_type": "code",
   "execution_count": null,
   "metadata": {},
   "outputs": [],
   "source": []
  }
 ],
 "metadata": {
  "kernelspec": {
   "display_name": "Python 3",
   "language": "python",
   "name": "python3"
  },
  "language_info": {
   "codemirror_mode": {
    "name": "ipython",
    "version": 3
   },
   "file_extension": ".py",
   "mimetype": "text/x-python",
   "name": "python",
   "nbconvert_exporter": "python",
   "pygments_lexer": "ipython3",
   "version": "3.7.7"
  }
 },
 "nbformat": 4,
 "nbformat_minor": 2
}
