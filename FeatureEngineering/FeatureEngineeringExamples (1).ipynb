{
 "cells": [
  {
   "cell_type": "markdown",
   "metadata": {},
   "source": [
    "# Assignment 2 - Feature Engineering"
   ]
  },
  {
   "cell_type": "code",
   "execution_count": 29,
   "metadata": {},
   "outputs": [],
   "source": [
    "import pandas as pd\n",
    "import matplotlib.pyplot as plt\n",
    "list1 = [25,35,33,25,42,35,30,35,36,41,40,33,42,35,99]\n",
    "data = pd.DataFrame(list1)\n",
    "\n",
    "#The Summary of Box Plot\n",
    "def summary(dataPoints):\n",
    "    if not dataPoints:\n",
    "        raise StatsError('no data points passed')\n",
    "        \n",
    "    print (\"Summary statistics\")\n",
    "    print (\"Min      : \", min(dataPoints))\n",
    "    print (\"Lower Qu.: \", quartiles(dataPoints)[0])\n",
    "    print (\"Median   : \", median(dataPoints))\n",
    "    print (\"Mean     : \", mean(dataPoints))\n",
    "    print (\"Upper Qu.: \", quartiles(dataPoints)[1])\n",
    "    print (\"Outlier : \", max(dataPoints))\n",
    "    return \"All the Summary Statistics are done ! \" # this avoids printing None\n",
    "\n",
    "def quartiles(dataPoints):\n",
    "    \"\"\"\n",
    "    the lower and upper quartile\n",
    "    Arguments:\n",
    "        dataPoints: a list of data points, int or float\n",
    "    Returns:\n",
    "        the first and the last quarter in the sorted list, a tuple of float or int\n",
    "    \"\"\"\n",
    "    if not dataPoints:\n",
    "        raise StatsError('no data points passed')\n",
    "        \n",
    "    sortedPoints = sorted(dataPoints)\n",
    "    mid = len(sortedPoints) // 2 # uses the floor division to have integer returned\n",
    "    \n",
    "    if (len(sortedPoints) % 2 == 0):\n",
    "        # even\n",
    "        lowerQ = median(sortedPoints[:mid])\n",
    "        upperQ = median(sortedPoints[mid:])\n",
    "    else:\n",
    "        # odd\n",
    "        lowerQ = median(sortedPoints[:mid])\n",
    "        upperQ = median(sortedPoints[mid+1:])\n",
    "            \n",
    "    return (lowerQ, upperQ)\n",
    "\n",
    "def median(dataPoints):\n",
    "    \"\"\"\n",
    "    the median of given data\n",
    "    Arguments:\n",
    "        dataPoints: a list of data points, int or float\n",
    "    Returns:\n",
    "        the middle number in the sorted list, a float or an int\n",
    "    \"\"\"\n",
    "    if not dataPoints:\n",
    "        raise StatsError('no data points passed')\n",
    "        \n",
    "    sortedPoints = sorted(dataPoints)\n",
    "    mid = len(sortedPoints) // 2  # uses the floor division to have integer returned\n",
    "    if (len(sortedPoints) % 2 == 0):\n",
    "        # even\n",
    "        return (sortedPoints[mid-1] + sortedPoints[mid]) / 2.0\n",
    "    else:\n",
    "        # odd\n",
    "        return sortedPoints[mid]\n",
    "    \n",
    "def mean(dataPoints, precision=3):\n",
    "    \"\"\"\n",
    "    the arithmetic average of given data\n",
    "    Arguments:\n",
    "        dataPoints: a list of data points, int or float\n",
    "        precision (optional): digits precision after the comma, default=3\n",
    "    Returns:\n",
    "        float, the mean of the input\n",
    "        or StatsError if X is empty.\n",
    "    \"\"\"\n",
    "    try:\n",
    "        return round(sum(dataPoints) / float(len(dataPoints)), precision)\n",
    "    except ZeroDivisionError:\n",
    "        raise StatsError('no data points passed')\n"
   ]
  },
  {
   "cell_type": "code",
   "execution_count": 30,
   "metadata": {},
   "outputs": [
    {
     "data": {
      "text/html": [
       "<div>\n",
       "<style scoped>\n",
       "    .dataframe tbody tr th:only-of-type {\n",
       "        vertical-align: middle;\n",
       "    }\n",
       "\n",
       "    .dataframe tbody tr th {\n",
       "        vertical-align: top;\n",
       "    }\n",
       "\n",
       "    .dataframe thead th {\n",
       "        text-align: right;\n",
       "    }\n",
       "</style>\n",
       "<table border=\"1\" class=\"dataframe\">\n",
       "  <thead>\n",
       "    <tr style=\"text-align: right;\">\n",
       "      <th></th>\n",
       "      <th>0</th>\n",
       "    </tr>\n",
       "  </thead>\n",
       "  <tbody>\n",
       "    <tr>\n",
       "      <th>count</th>\n",
       "      <td>15.000000</td>\n",
       "    </tr>\n",
       "    <tr>\n",
       "      <th>mean</th>\n",
       "      <td>39.066667</td>\n",
       "    </tr>\n",
       "    <tr>\n",
       "      <th>std</th>\n",
       "      <td>17.404707</td>\n",
       "    </tr>\n",
       "    <tr>\n",
       "      <th>min</th>\n",
       "      <td>25.000000</td>\n",
       "    </tr>\n",
       "    <tr>\n",
       "      <th>25%</th>\n",
       "      <td>33.000000</td>\n",
       "    </tr>\n",
       "    <tr>\n",
       "      <th>50%</th>\n",
       "      <td>35.000000</td>\n",
       "    </tr>\n",
       "    <tr>\n",
       "      <th>75%</th>\n",
       "      <td>40.500000</td>\n",
       "    </tr>\n",
       "    <tr>\n",
       "      <th>max</th>\n",
       "      <td>99.000000</td>\n",
       "    </tr>\n",
       "  </tbody>\n",
       "</table>\n",
       "</div>"
      ],
      "text/plain": [
       "               0\n",
       "count  15.000000\n",
       "mean   39.066667\n",
       "std    17.404707\n",
       "min    25.000000\n",
       "25%    33.000000\n",
       "50%    35.000000\n",
       "75%    40.500000\n",
       "max    99.000000"
      ]
     },
     "execution_count": 30,
     "metadata": {},
     "output_type": "execute_result"
    }
   ],
   "source": [
    "data.describe()"
   ]
  },
  {
   "cell_type": "code",
   "execution_count": 31,
   "metadata": {},
   "outputs": [
    {
     "data": {
      "image/png": "[encoded data removed]",
      "text/plain": [
       "<Figure size 432x288 with 1 Axes>"
      ]
     },
     "metadata": {
      "needs_background": "light"
     },
     "output_type": "display_data"
    }
   ],
   "source": [
    "plt.boxplot(list1,showmeans=True,vert=False)\n",
    "plt.show()"
   ]
  },
  {
   "cell_type": "code",
   "execution_count": 32,
   "metadata": {},
   "outputs": [
    {
     "name": "stdout",
     "output_type": "stream",
     "text": [
      "Summary statistics\n",
      "Min      :  25\n",
      "Lower Qu.:  33\n",
      "Median   :  35\n",
      "Mean     :  39.067\n",
      "Upper Qu.:  41\n",
      "Outlier :  99\n",
      "All the Summary Statistics are done ! \n"
     ]
    }
   ],
   "source": [
    "\n",
    "print(summary(list1))\n",
    " "
   ]
  },
  {
   "cell_type": "code",
   "execution_count": null,
   "metadata": {},
   "outputs": [],
   "source": []
  }
 ],
 "metadata": {
  "kernelspec": {
   "display_name": "Python 3",
   "language": "python",
   "name": "python3"
  },
  "language_info": {
   "codemirror_mode": {
    "name": "ipython",
    "version": 3
   },
   "file_extension": ".py",
   "mimetype": "text/x-python",
   "name": "python",
   "nbconvert_exporter": "python",
   "pygments_lexer": "ipython3",
   "version": "3.7.5"
  }
 },
 "nbformat": 4,
 "nbformat_minor": 2
}
